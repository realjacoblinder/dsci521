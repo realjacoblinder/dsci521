{
 "cells": [
  {
   "cell_type": "code",
   "execution_count": 1,
   "metadata": {},
   "outputs": [],
   "source": [
    "import chess.pgn\n",
    "import pandas as pd\n",
    "from tqdm import tqdm\n",
    "import seaborn as sns\n",
    "import matplotlib.pyplot as plt\n",
    "import numpy as np\n",
    "sns.set(style=\"white\")\n",
    "from collections import Counter\n",
    "import networkx as nx\n",
    "import plotly.express as px\n",
    "import plotly.graph_objects as go"
   ]
  },
  {
   "cell_type": "code",
   "execution_count": 125,
   "metadata": {},
   "outputs": [],
   "source": [
    "## source: https://github.com/dsharpc/ChessNetworks/blob/master/data_parser/notebooks/Parser.ipynb\n",
    "class Match:\n",
    "    def __init__(self, game):\n",
    "        self.game = game\n",
    "        self.white = game.headers.get('White')\n",
    "        self.black = game.headers.get('Black')\n",
    "        self.game_id = game.headers.get('Site').split('/')[-1]\n",
    "        self.moves = self.get_moves()\n",
    "        self.tracker = game.board().piece_map()\n",
    "        self.start_tracker()\n",
    "        self.black_elo = game.headers.get('BlackElo')\n",
    "        self.white_elo = game.headers.get('WhiteElo')\n",
    "        self.opening = game.headers.get('Opening')\n",
    "        self.eco = game.headers.get('ECO')\n",
    "        self.termination = game.headers.get('Termination')\n",
    "        self.date = game.headers.get('UTCDate')\n",
    "        self.winner = self.get_winner(game.headers.get('Result'))\n",
    "        self.checkmate = True if str(game.mainline_moves())[-1] == '#' else False\n",
    "        self.mainline_moves = game.mainline_moves()\n",
    "        self.castle_tracker = {'white':0, 'black':0}\n",
    "        self.white_change = game.headers.get('WhiteRatingDiff') \n",
    "        self.black_change = game.headers.get('BlackRatingDiff')\n",
    "    \n",
    "    @staticmethod\n",
    "    def get_winner(results):\n",
    "        results = results.split('-')\n",
    "        if results[0] == '1':\n",
    "            return 'White'\n",
    "        if results[0] == '1/2':\n",
    "            return 'Tie'\n",
    "        else:\n",
    "            return 'Black'\n",
    "        \n",
    "    @staticmethod \n",
    "    def castling_move_rook(from_square, to_square):\n",
    "        if from_square == 4:\n",
    "            if to_square == 6:\n",
    "                return {'piece':7, 'move':(7,5)}\n",
    "            elif to_square == 2:\n",
    "                return {'piece':0, 'move':(0,3)}\n",
    "        elif from_square == 60:\n",
    "            if to_square == 62:\n",
    "                return {'piece':63, 'move':(63,61)}\n",
    "            elif to_square == 58:\n",
    "                return {'piece':56, 'move':(56,59)}\n",
    "    \n",
    "    def get_moves(self):\n",
    "        moves = []\n",
    "        for move in self.game.mainline_moves():\n",
    "            from_m = move.from_square\n",
    "            to_m = move.to_square\n",
    "            moves.append((from_m, to_m))\n",
    "        return moves\n",
    "    \n",
    "    @staticmethod\n",
    "    def _to_uci(square):\n",
    "        square = int(square)\n",
    "        letter = chr(ord('a') + ((square)%8)) \n",
    "        number = square//8+1\n",
    "        return f\"{letter}{number}\"\n",
    "    \n",
    "    def start_tracker(self):\n",
    "        for key in self.tracker.keys():\n",
    "            self.tracker[key] = {'piece': self.tracker[key].unicode_symbol()+'-'+str(self._to_uci(key)),\\\n",
    "                                 'moves':[], 'last_square':key,'captured':False, 'captures':[], 'move_nums':[]}\n",
    "        \n",
    "    def fill_tracker(self):\n",
    "        for idx,mov in enumerate(self.moves):\n",
    "            from_m, to_m = mov\n",
    "            piece = [key for (key,value) in self.tracker.items() if value.get('last_square') == from_m and value.get('captured') is False][0]\n",
    "            captured = [key for (key,value) in self.tracker.items() if value.get('last_square') == to_m and value.get('captured') is False]\n",
    "            if len(captured) > 0:\n",
    "                captured = captured[0]\n",
    "                self.tracker[captured]['captured'] = True\n",
    "                self.tracker[piece]['captures'].append(self.tracker[captured].get('piece'))\n",
    "            self.tracker[piece]['moves'].append(to_m)\n",
    "            if piece in [4,60] and abs(from_m - to_m) == 2:\n",
    "                castled = self.castling_move_rook(from_m,to_m)\n",
    "                self.tracker[castled['piece']]['moves'].append(castled['move'][1])\n",
    "                self.tracker[castled['piece']]['last_square'] = castled['move'][1]\n",
    "                self.castle_tracker['white' if piece == 4 else 'black'] += 1\n",
    "            self.tracker[piece]['last_square'] = to_m\n",
    "            self.tracker[piece]['move_nums'].append(idx)\n",
    "        if self.checkmate == True:\n",
    "            self.checkmate = self.tracker[piece]['piece']                \n",
    "                \n",
    "            \n",
    "    def get_mean_elo(self):\n",
    "        try:\n",
    "            mean = (int(self.black_elo) + int(self.white_elo))/2\n",
    "            return mean\n",
    "        except:\n",
    "            return np.nan\n",
    "        \n",
    "    def get_dataframe(self):\n",
    "        df = pd.DataFrame.from_dict(self.tracker, orient='index')\n",
    "        df['game_id'] = self.game_id\n",
    "        df['mean_elo'] = self.get_mean_elo()\n",
    "        df['Checkmate'] = self.checkmate\n",
    "        df['Termination'] = self.termination\n",
    "        df['white'] = self.white\n",
    "        df['black'] = self.black\n",
    "        \n",
    "        return df"
   ]
  },
  {
   "cell_type": "code",
   "execution_count": 126,
   "metadata": {},
   "outputs": [],
   "source": [
    "games = {}\n",
    "limit = 5000 # for testing\n",
    "with open('data/lichess_db_standard_rated_2013-02.pgn', 'r') as pgn_file:\n",
    "    game = chess.pgn.read_game(pgn_file)\n",
    "    L = 0\n",
    "    while game != None:\n",
    "        match = Match(game)\n",
    "        idx = match.game_id\n",
    "        games[idx] = match\n",
    "        game = chess.pgn.read_game(pgn_file)\n",
    "        L += 1\n",
    "        if L == limit: break"
   ]
  },
  {
   "cell_type": "code",
   "execution_count": 127,
   "metadata": {},
   "outputs": [],
   "source": [
    "for game in games.values():\n",
    "    game.fill_tracker()\n",
    "data = pd.concat([i.get_dataframe() for i in games.values()])"
   ]
  },
  {
   "cell_type": "code",
   "execution_count": 86,
   "metadata": {},
   "outputs": [
    {
     "data": {
      "text/html": [
       "<div>\n",
       "<style scoped>\n",
       "    .dataframe tbody tr th:only-of-type {\n",
       "        vertical-align: middle;\n",
       "    }\n",
       "\n",
       "    .dataframe tbody tr th {\n",
       "        vertical-align: top;\n",
       "    }\n",
       "\n",
       "    .dataframe thead th {\n",
       "        text-align: right;\n",
       "    }\n",
       "</style>\n",
       "<table border=\"1\" class=\"dataframe\">\n",
       "  <thead>\n",
       "    <tr style=\"text-align: right;\">\n",
       "      <th></th>\n",
       "      <th>piece</th>\n",
       "      <th>moves</th>\n",
       "      <th>last_square</th>\n",
       "      <th>captured</th>\n",
       "      <th>captures</th>\n",
       "      <th>move_nums</th>\n",
       "      <th>game_id</th>\n",
       "      <th>mean_elo</th>\n",
       "      <th>Checkmate</th>\n",
       "      <th>Termination</th>\n",
       "      <th>white</th>\n",
       "      <th>black</th>\n",
       "    </tr>\n",
       "  </thead>\n",
       "  <tbody>\n",
       "    <tr>\n",
       "      <th>63</th>\n",
       "      <td>♜-h8</td>\n",
       "      <td>[]</td>\n",
       "      <td>63</td>\n",
       "      <td>False</td>\n",
       "      <td>[]</td>\n",
       "      <td>[]</td>\n",
       "      <td>b9tstv2z</td>\n",
       "      <td>1836.0</td>\n",
       "      <td>♕-d1</td>\n",
       "      <td>Normal</td>\n",
       "      <td>dvorak</td>\n",
       "      <td>Kiriush</td>\n",
       "    </tr>\n",
       "    <tr>\n",
       "      <th>62</th>\n",
       "      <td>♞-g8</td>\n",
       "      <td>[45, 39, 45, 28]</td>\n",
       "      <td>28</td>\n",
       "      <td>False</td>\n",
       "      <td>[♘-b1]</td>\n",
       "      <td>[7, 27, 39, 41]</td>\n",
       "      <td>b9tstv2z</td>\n",
       "      <td>1836.0</td>\n",
       "      <td>♕-d1</td>\n",
       "      <td>Normal</td>\n",
       "      <td>dvorak</td>\n",
       "      <td>Kiriush</td>\n",
       "    </tr>\n",
       "    <tr>\n",
       "      <th>61</th>\n",
       "      <td>♝-f8</td>\n",
       "      <td>[52]</td>\n",
       "      <td>52</td>\n",
       "      <td>False</td>\n",
       "      <td>[]</td>\n",
       "      <td>[21]</td>\n",
       "      <td>b9tstv2z</td>\n",
       "      <td>1836.0</td>\n",
       "      <td>♕-d1</td>\n",
       "      <td>Normal</td>\n",
       "      <td>dvorak</td>\n",
       "      <td>Kiriush</td>\n",
       "    </tr>\n",
       "    <tr>\n",
       "      <th>60</th>\n",
       "      <td>♚-e8</td>\n",
       "      <td>[61, 54]</td>\n",
       "      <td>54</td>\n",
       "      <td>False</td>\n",
       "      <td>[]</td>\n",
       "      <td>[31, 37]</td>\n",
       "      <td>b9tstv2z</td>\n",
       "      <td>1836.0</td>\n",
       "      <td>♕-d1</td>\n",
       "      <td>Normal</td>\n",
       "      <td>dvorak</td>\n",
       "      <td>Kiriush</td>\n",
       "    </tr>\n",
       "    <tr>\n",
       "      <th>59</th>\n",
       "      <td>♛-d8</td>\n",
       "      <td>[]</td>\n",
       "      <td>59</td>\n",
       "      <td>False</td>\n",
       "      <td>[]</td>\n",
       "      <td>[]</td>\n",
       "      <td>b9tstv2z</td>\n",
       "      <td>1836.0</td>\n",
       "      <td>♕-d1</td>\n",
       "      <td>Normal</td>\n",
       "      <td>dvorak</td>\n",
       "      <td>Kiriush</td>\n",
       "    </tr>\n",
       "    <tr>\n",
       "      <th>...</th>\n",
       "      <td>...</td>\n",
       "      <td>...</td>\n",
       "      <td>...</td>\n",
       "      <td>...</td>\n",
       "      <td>...</td>\n",
       "      <td>...</td>\n",
       "      <td>...</td>\n",
       "      <td>...</td>\n",
       "      <td>...</td>\n",
       "      <td>...</td>\n",
       "      <td>...</td>\n",
       "      <td>...</td>\n",
       "    </tr>\n",
       "    <tr>\n",
       "      <th>4</th>\n",
       "      <td>♔-e1</td>\n",
       "      <td>[6, 13]</td>\n",
       "      <td>13</td>\n",
       "      <td>False</td>\n",
       "      <td>[]</td>\n",
       "      <td>[40, 74]</td>\n",
       "      <td>huknxzib</td>\n",
       "      <td>1320.5</td>\n",
       "      <td>♕-d1</td>\n",
       "      <td>Normal</td>\n",
       "      <td>HonchoIII</td>\n",
       "      <td>-ManOwaR-</td>\n",
       "    </tr>\n",
       "    <tr>\n",
       "      <th>3</th>\n",
       "      <td>♕-d1</td>\n",
       "      <td>[19, 40, 24, 33, 40, 33, 49, 58, 63, 47, 55, 1...</td>\n",
       "      <td>10</td>\n",
       "      <td>False</td>\n",
       "      <td>[♟-a7, ♞-g8]</td>\n",
       "      <td>[22, 24, 28, 34, 62, 64, 66, 76, 78, 80, 82, 8...</td>\n",
       "      <td>huknxzib</td>\n",
       "      <td>1320.5</td>\n",
       "      <td>♕-d1</td>\n",
       "      <td>Normal</td>\n",
       "      <td>HonchoIII</td>\n",
       "      <td>-ManOwaR-</td>\n",
       "    </tr>\n",
       "    <tr>\n",
       "      <th>2</th>\n",
       "      <td>♗-c1</td>\n",
       "      <td>[20, 11, 29, 38]</td>\n",
       "      <td>38</td>\n",
       "      <td>True</td>\n",
       "      <td>[♟-g7]</td>\n",
       "      <td>[10, 38, 42, 44]</td>\n",
       "      <td>huknxzib</td>\n",
       "      <td>1320.5</td>\n",
       "      <td>♕-d1</td>\n",
       "      <td>Normal</td>\n",
       "      <td>HonchoIII</td>\n",
       "      <td>-ManOwaR-</td>\n",
       "    </tr>\n",
       "    <tr>\n",
       "      <th>1</th>\n",
       "      <td>♘-b1</td>\n",
       "      <td>[18, 33, 18, 33]</td>\n",
       "      <td>33</td>\n",
       "      <td>True</td>\n",
       "      <td>[♟-b7]</td>\n",
       "      <td>[2, 26, 30, 32]</td>\n",
       "      <td>huknxzib</td>\n",
       "      <td>1320.5</td>\n",
       "      <td>♕-d1</td>\n",
       "      <td>Normal</td>\n",
       "      <td>HonchoIII</td>\n",
       "      <td>-ManOwaR-</td>\n",
       "    </tr>\n",
       "    <tr>\n",
       "      <th>0</th>\n",
       "      <td>♖-a1</td>\n",
       "      <td>[2]</td>\n",
       "      <td>2</td>\n",
       "      <td>False</td>\n",
       "      <td>[]</td>\n",
       "      <td>[90]</td>\n",
       "      <td>huknxzib</td>\n",
       "      <td>1320.5</td>\n",
       "      <td>♕-d1</td>\n",
       "      <td>Normal</td>\n",
       "      <td>HonchoIII</td>\n",
       "      <td>-ManOwaR-</td>\n",
       "    </tr>\n",
       "  </tbody>\n",
       "</table>\n",
       "<p>46336 rows × 12 columns</p>\n",
       "</div>"
      ],
      "text/plain": [
       "   piece                                              moves  last_square  \\\n",
       "63  ♜-h8                                                 []           63   \n",
       "62  ♞-g8                                   [45, 39, 45, 28]           28   \n",
       "61  ♝-f8                                               [52]           52   \n",
       "60  ♚-e8                                           [61, 54]           54   \n",
       "59  ♛-d8                                                 []           59   \n",
       "..   ...                                                ...          ...   \n",
       "4   ♔-e1                                            [6, 13]           13   \n",
       "3   ♕-d1  [19, 40, 24, 33, 40, 33, 49, 58, 63, 47, 55, 1...           10   \n",
       "2   ♗-c1                                   [20, 11, 29, 38]           38   \n",
       "1   ♘-b1                                   [18, 33, 18, 33]           33   \n",
       "0   ♖-a1                                                [2]            2   \n",
       "\n",
       "    captured      captures                                          move_nums  \\\n",
       "63     False            []                                                 []   \n",
       "62     False        [♘-b1]                                    [7, 27, 39, 41]   \n",
       "61     False            []                                               [21]   \n",
       "60     False            []                                           [31, 37]   \n",
       "59     False            []                                                 []   \n",
       "..       ...           ...                                                ...   \n",
       "4      False            []                                           [40, 74]   \n",
       "3      False  [♟-a7, ♞-g8]  [22, 24, 28, 34, 62, 64, 66, 76, 78, 80, 82, 8...   \n",
       "2       True        [♟-g7]                                   [10, 38, 42, 44]   \n",
       "1       True        [♟-b7]                                    [2, 26, 30, 32]   \n",
       "0      False            []                                               [90]   \n",
       "\n",
       "     game_id  mean_elo Checkmate Termination      white      black  \n",
       "63  b9tstv2z    1836.0      ♕-d1      Normal     dvorak    Kiriush  \n",
       "62  b9tstv2z    1836.0      ♕-d1      Normal     dvorak    Kiriush  \n",
       "61  b9tstv2z    1836.0      ♕-d1      Normal     dvorak    Kiriush  \n",
       "60  b9tstv2z    1836.0      ♕-d1      Normal     dvorak    Kiriush  \n",
       "59  b9tstv2z    1836.0      ♕-d1      Normal     dvorak    Kiriush  \n",
       "..       ...       ...       ...         ...        ...        ...  \n",
       "4   huknxzib    1320.5      ♕-d1      Normal  HonchoIII  -ManOwaR-  \n",
       "3   huknxzib    1320.5      ♕-d1      Normal  HonchoIII  -ManOwaR-  \n",
       "2   huknxzib    1320.5      ♕-d1      Normal  HonchoIII  -ManOwaR-  \n",
       "1   huknxzib    1320.5      ♕-d1      Normal  HonchoIII  -ManOwaR-  \n",
       "0   huknxzib    1320.5      ♕-d1      Normal  HonchoIII  -ManOwaR-  \n",
       "\n",
       "[46336 rows x 12 columns]"
      ]
     },
     "execution_count": 86,
     "metadata": {},
     "output_type": "execute_result"
    }
   ],
   "source": [
    "data[data['Checkmate'] != False]"
   ]
  },
  {
   "cell_type": "code",
   "execution_count": 6,
   "metadata": {},
   "outputs": [
    {
     "data": {
      "text/html": [
       "<div>\n",
       "<style scoped>\n",
       "    .dataframe tbody tr th:only-of-type {\n",
       "        vertical-align: middle;\n",
       "    }\n",
       "\n",
       "    .dataframe tbody tr th {\n",
       "        vertical-align: top;\n",
       "    }\n",
       "\n",
       "    .dataframe thead th {\n",
       "        text-align: right;\n",
       "    }\n",
       "</style>\n",
       "<table border=\"1\" class=\"dataframe\">\n",
       "  <thead>\n",
       "    <tr style=\"text-align: right;\">\n",
       "      <th></th>\n",
       "      <th>piece</th>\n",
       "      <th>moves</th>\n",
       "      <th>last_square</th>\n",
       "      <th>captured</th>\n",
       "      <th>captures</th>\n",
       "      <th>move_nums</th>\n",
       "      <th>game_id</th>\n",
       "      <th>mean_elo</th>\n",
       "      <th>Checkmate</th>\n",
       "      <th>Termination</th>\n",
       "      <th>white</th>\n",
       "      <th>black</th>\n",
       "    </tr>\n",
       "  </thead>\n",
       "  <tbody>\n",
       "    <tr>\n",
       "      <th>63</th>\n",
       "      <td>♜-h8</td>\n",
       "      <td>[]</td>\n",
       "      <td>63</td>\n",
       "      <td>False</td>\n",
       "      <td>[]</td>\n",
       "      <td>[]</td>\n",
       "      <td>hcrm1twx</td>\n",
       "      <td>1198.5</td>\n",
       "      <td>False</td>\n",
       "      <td>Normal</td>\n",
       "      <td>kualalumpur</td>\n",
       "      <td>MiquelLHuma</td>\n",
       "    </tr>\n",
       "    <tr>\n",
       "      <th>0</th>\n",
       "      <td>♖-a1</td>\n",
       "      <td>[]</td>\n",
       "      <td>0</td>\n",
       "      <td>False</td>\n",
       "      <td>[]</td>\n",
       "      <td>[]</td>\n",
       "      <td>hcrm1twx</td>\n",
       "      <td>1198.5</td>\n",
       "      <td>False</td>\n",
       "      <td>Normal</td>\n",
       "      <td>kualalumpur</td>\n",
       "      <td>MiquelLHuma</td>\n",
       "    </tr>\n",
       "    <tr>\n",
       "      <th>1</th>\n",
       "      <td>♘-b1</td>\n",
       "      <td>[11, 5]</td>\n",
       "      <td>5</td>\n",
       "      <td>False</td>\n",
       "      <td>[]</td>\n",
       "      <td>[14, 28]</td>\n",
       "      <td>hcrm1twx</td>\n",
       "      <td>1198.5</td>\n",
       "      <td>False</td>\n",
       "      <td>Normal</td>\n",
       "      <td>kualalumpur</td>\n",
       "      <td>MiquelLHuma</td>\n",
       "    </tr>\n",
       "    <tr>\n",
       "      <th>2</th>\n",
       "      <td>♗-c1</td>\n",
       "      <td>[]</td>\n",
       "      <td>2</td>\n",
       "      <td>False</td>\n",
       "      <td>[]</td>\n",
       "      <td>[]</td>\n",
       "      <td>hcrm1twx</td>\n",
       "      <td>1198.5</td>\n",
       "      <td>False</td>\n",
       "      <td>Normal</td>\n",
       "      <td>kualalumpur</td>\n",
       "      <td>MiquelLHuma</td>\n",
       "    </tr>\n",
       "    <tr>\n",
       "      <th>3</th>\n",
       "      <td>♕-d1</td>\n",
       "      <td>[19, 17, 24, 32, 34, 48]</td>\n",
       "      <td>48</td>\n",
       "      <td>False</td>\n",
       "      <td>[♝-f8, ♟-b7, ♟-a7]</td>\n",
       "      <td>[12, 16, 22, 24, 32, 34]</td>\n",
       "      <td>hcrm1twx</td>\n",
       "      <td>1198.5</td>\n",
       "      <td>False</td>\n",
       "      <td>Normal</td>\n",
       "      <td>kualalumpur</td>\n",
       "      <td>MiquelLHuma</td>\n",
       "    </tr>\n",
       "    <tr>\n",
       "      <th>...</th>\n",
       "      <td>...</td>\n",
       "      <td>...</td>\n",
       "      <td>...</td>\n",
       "      <td>...</td>\n",
       "      <td>...</td>\n",
       "      <td>...</td>\n",
       "      <td>...</td>\n",
       "      <td>...</td>\n",
       "      <td>...</td>\n",
       "      <td>...</td>\n",
       "      <td>...</td>\n",
       "      <td>...</td>\n",
       "    </tr>\n",
       "    <tr>\n",
       "      <th>4</th>\n",
       "      <td>♔-e1</td>\n",
       "      <td>[3, 10, 17]</td>\n",
       "      <td>17</td>\n",
       "      <td>False</td>\n",
       "      <td>[]</td>\n",
       "      <td>[26, 42, 46]</td>\n",
       "      <td>oiq70mvu</td>\n",
       "      <td>NaN</td>\n",
       "      <td>False</td>\n",
       "      <td>Time forfeit</td>\n",
       "      <td>?</td>\n",
       "      <td>Jordeniel01</td>\n",
       "    </tr>\n",
       "    <tr>\n",
       "      <th>3</th>\n",
       "      <td>♕-d1</td>\n",
       "      <td>[11]</td>\n",
       "      <td>11</td>\n",
       "      <td>True</td>\n",
       "      <td>[]</td>\n",
       "      <td>[24]</td>\n",
       "      <td>oiq70mvu</td>\n",
       "      <td>NaN</td>\n",
       "      <td>False</td>\n",
       "      <td>Time forfeit</td>\n",
       "      <td>?</td>\n",
       "      <td>Jordeniel01</td>\n",
       "    </tr>\n",
       "    <tr>\n",
       "      <th>2</th>\n",
       "      <td>♗-c1</td>\n",
       "      <td>[]</td>\n",
       "      <td>2</td>\n",
       "      <td>True</td>\n",
       "      <td>[]</td>\n",
       "      <td>[]</td>\n",
       "      <td>oiq70mvu</td>\n",
       "      <td>NaN</td>\n",
       "      <td>False</td>\n",
       "      <td>Time forfeit</td>\n",
       "      <td>?</td>\n",
       "      <td>Jordeniel01</td>\n",
       "    </tr>\n",
       "    <tr>\n",
       "      <th>1</th>\n",
       "      <td>♘-b1</td>\n",
       "      <td>[16]</td>\n",
       "      <td>16</td>\n",
       "      <td>True</td>\n",
       "      <td>[]</td>\n",
       "      <td>[20]</td>\n",
       "      <td>oiq70mvu</td>\n",
       "      <td>NaN</td>\n",
       "      <td>False</td>\n",
       "      <td>Time forfeit</td>\n",
       "      <td>?</td>\n",
       "      <td>Jordeniel01</td>\n",
       "    </tr>\n",
       "    <tr>\n",
       "      <th>0</th>\n",
       "      <td>♖-a1</td>\n",
       "      <td>[8, 9]</td>\n",
       "      <td>9</td>\n",
       "      <td>False</td>\n",
       "      <td>[]</td>\n",
       "      <td>[4, 38]</td>\n",
       "      <td>oiq70mvu</td>\n",
       "      <td>NaN</td>\n",
       "      <td>False</td>\n",
       "      <td>Time forfeit</td>\n",
       "      <td>?</td>\n",
       "      <td>Jordeniel01</td>\n",
       "    </tr>\n",
       "  </tbody>\n",
       "</table>\n",
       "<p>16000 rows × 12 columns</p>\n",
       "</div>"
      ],
      "text/plain": [
       "   piece                     moves  last_square  captured            captures  \\\n",
       "63  ♜-h8                        []           63     False                  []   \n",
       "0   ♖-a1                        []            0     False                  []   \n",
       "1   ♘-b1                   [11, 5]            5     False                  []   \n",
       "2   ♗-c1                        []            2     False                  []   \n",
       "3   ♕-d1  [19, 17, 24, 32, 34, 48]           48     False  [♝-f8, ♟-b7, ♟-a7]   \n",
       "..   ...                       ...          ...       ...                 ...   \n",
       "4   ♔-e1               [3, 10, 17]           17     False                  []   \n",
       "3   ♕-d1                      [11]           11      True                  []   \n",
       "2   ♗-c1                        []            2      True                  []   \n",
       "1   ♘-b1                      [16]           16      True                  []   \n",
       "0   ♖-a1                    [8, 9]            9     False                  []   \n",
       "\n",
       "                   move_nums   game_id  mean_elo Checkmate   Termination  \\\n",
       "63                        []  hcrm1twx    1198.5     False        Normal   \n",
       "0                         []  hcrm1twx    1198.5     False        Normal   \n",
       "1                   [14, 28]  hcrm1twx    1198.5     False        Normal   \n",
       "2                         []  hcrm1twx    1198.5     False        Normal   \n",
       "3   [12, 16, 22, 24, 32, 34]  hcrm1twx    1198.5     False        Normal   \n",
       "..                       ...       ...       ...       ...           ...   \n",
       "4               [26, 42, 46]  oiq70mvu       NaN     False  Time forfeit   \n",
       "3                       [24]  oiq70mvu       NaN     False  Time forfeit   \n",
       "2                         []  oiq70mvu       NaN     False  Time forfeit   \n",
       "1                       [20]  oiq70mvu       NaN     False  Time forfeit   \n",
       "0                    [4, 38]  oiq70mvu       NaN     False  Time forfeit   \n",
       "\n",
       "          white        black  \n",
       "63  kualalumpur  MiquelLHuma  \n",
       "0   kualalumpur  MiquelLHuma  \n",
       "1   kualalumpur  MiquelLHuma  \n",
       "2   kualalumpur  MiquelLHuma  \n",
       "3   kualalumpur  MiquelLHuma  \n",
       "..          ...          ...  \n",
       "4             ?  Jordeniel01  \n",
       "3             ?  Jordeniel01  \n",
       "2             ?  Jordeniel01  \n",
       "1             ?  Jordeniel01  \n",
       "0             ?  Jordeniel01  \n",
       "\n",
       "[16000 rows x 12 columns]"
      ]
     },
     "execution_count": 6,
     "metadata": {},
     "output_type": "execute_result"
    }
   ],
   "source": [
    "data.sort_values(by='mean_elo')"
   ]
  },
  {
   "cell_type": "code",
   "execution_count": 7,
   "metadata": {},
   "outputs": [],
   "source": [
    "def first_winning_moves(games):\n",
    "    first_moves = {'White':Counter(), 'Black':Counter()}\n",
    "    for idx,match in games.items():\n",
    "        winner = match.winner\n",
    "        if winner == 'Tie': continue\n",
    "        white = match.get_moves()[0]\n",
    "        black = match.get_moves()[1]\n",
    "        first_moves[winner].update([white if winner == 'White' else black])\n",
    "    return first_moves"
   ]
  },
  {
   "cell_type": "code",
   "execution_count": 8,
   "metadata": {},
   "outputs": [],
   "source": [
    "x = first_winning_moves(games)"
   ]
  },
  {
   "cell_type": "code",
   "execution_count": 9,
   "metadata": {},
   "outputs": [],
   "source": [
    "def first_moves(games):\n",
    "    first_moves = {'White':Counter(), 'Black':Counter()}\n",
    "    for idx,match in games.items():\n",
    "        white = match.get_moves()[0]\n",
    "        black = match.get_moves()[1]\n",
    "        first_moves['White'].update([white])\n",
    "        first_moves['Black'].update([black])\n",
    "    return first_moves"
   ]
  },
  {
   "cell_type": "code",
   "execution_count": 10,
   "metadata": {},
   "outputs": [],
   "source": [
    "y = first_moves(games)"
   ]
  },
  {
   "cell_type": "code",
   "execution_count": 11,
   "metadata": {},
   "outputs": [
    {
     "name": "stdout",
     "output_type": "stream",
     "text": [
      "White - [((12, 28), 151), ((11, 27), 71), ((6, 21), 16), ((11, 19), 8), ((13, 29), 7), ((10, 26), 5), ((12, 20), 3), ((9, 17), 3), ((10, 18), 3), ((14, 22), 1)]\n",
      "White - [((12, 28), 269), ((11, 27), 134), ((6, 21), 29), ((10, 26), 17), ((11, 19), 13), ((13, 29), 11), ((9, 17), 6), ((10, 18), 6), ((12, 20), 5), ((14, 22), 4), ((9, 25), 3), ((14, 30), 1), ((1, 18), 1), ((8, 16), 1)]\n",
      "Black - [((52, 36), 77), ((51, 35), 57), ((62, 45), 22), ((50, 34), 21), ((52, 44), 12), ((49, 41), 9), ((51, 43), 8), ((54, 46), 6), ((57, 42), 3), ((50, 42), 3), ((53, 37), 2), ((49, 33), 1)]\n",
      "Black - [((52, 36), 172), ((51, 35), 116), ((50, 34), 50), ((62, 45), 45), ((52, 44), 37), ((51, 43), 17), ((54, 46), 16), ((49, 41), 16), ((50, 42), 12), ((57, 42), 11), ((53, 37), 4), ((48, 32), 1), ((48, 40), 1), ((62, 47), 1), ((49, 33), 1)]\n"
     ]
    }
   ],
   "source": [
    "for color,counter in x.items():\n",
    "    print(f'{color} - {counter.most_common()}')\n",
    "    print(f'{color} - {y[color].most_common()}')"
   ]
  },
  {
   "cell_type": "code",
   "execution_count": 12,
   "metadata": {},
   "outputs": [],
   "source": [
    "def move_win_rate_per_move(winners,moves):\n",
    "    white_win_rates = {}\n",
    "    black_win_rates = {}\n",
    "    for i in moves['White'].keys():\n",
    "        if i in winners['White']:\n",
    "            white_win_rates[i] = winners['White'][i]/moves['White'][i]\n",
    "        else:\n",
    "            white_win_rates[i] = 0\n",
    "    for i in moves['Black'].keys():\n",
    "        if i in winners['Black']:\n",
    "            black_win_rates[i] = winners['Black'][i]/moves['Black'][i]\n",
    "        else:\n",
    "            black_win_rates[i] = 0\n",
    "    return white_win_rates,black_win_rates"
   ]
  },
  {
   "cell_type": "code",
   "execution_count": 13,
   "metadata": {},
   "outputs": [
    {
     "data": {
      "text/plain": [
       "({(12, 28): 0.5613382899628253,\n",
       "  (11, 19): 0.6153846153846154,\n",
       "  (11, 27): 0.5298507462686567,\n",
       "  (9, 17): 0.5,\n",
       "  (14, 30): 0,\n",
       "  (10, 26): 0.29411764705882354,\n",
       "  (9, 25): 0,\n",
       "  (6, 21): 0.5517241379310345,\n",
       "  (1, 18): 0,\n",
       "  (12, 20): 0.6,\n",
       "  (13, 29): 0.6363636363636364,\n",
       "  (14, 22): 0.25,\n",
       "  (10, 18): 0.5,\n",
       "  (8, 16): 0},\n",
       " {(51, 35): 0.49137931034482757,\n",
       "  (52, 36): 0.4476744186046512,\n",
       "  (50, 34): 0.42,\n",
       "  (62, 45): 0.4888888888888889,\n",
       "  (52, 44): 0.32432432432432434,\n",
       "  (54, 46): 0.375,\n",
       "  (51, 43): 0.47058823529411764,\n",
       "  (50, 42): 0.25,\n",
       "  (49, 41): 0.5625,\n",
       "  (57, 42): 0.2727272727272727,\n",
       "  (53, 37): 0.5,\n",
       "  (48, 32): 0,\n",
       "  (48, 40): 0,\n",
       "  (62, 47): 0,\n",
       "  (49, 33): 1.0})"
      ]
     },
     "execution_count": 13,
     "metadata": {},
     "output_type": "execute_result"
    }
   ],
   "source": [
    "move_win_rate_per_move(x,y)"
   ]
  },
  {
   "cell_type": "code",
   "execution_count": 14,
   "metadata": {},
   "outputs": [],
   "source": [
    "def to_uci(square):\n",
    "        square = int(square)\n",
    "        letter = chr(ord('a') + ((square)%8)) \n",
    "        number = square//8+1\n",
    "        return f\"{letter}{number}\""
   ]
  },
  {
   "cell_type": "code",
   "execution_count": 15,
   "metadata": {},
   "outputs": [],
   "source": [
    "def move_win_rate(winners,moves):\n",
    "    white_win_rates = {}\n",
    "    black_win_rates = {}\n",
    "    white_wins = sum(winners['White'].values())\n",
    "    white_moves = sum(moves['White'].values())\n",
    "    black_wins = sum(winners['Black'].values())\n",
    "    black_moves = sum(moves['Black'].values())\n",
    "    for i in moves['White'].keys():\n",
    "        legible_i = (to_uci(i[0]), to_uci(i[1]))\n",
    "        if i in winners['White']:\n",
    "            white_win_rates[legible_i] = (round(winners['White'][i]/moves['White'][i], 3), round(moves['White'][i]/white_moves, 3))\n",
    "        else:\n",
    "            white_win_rates[legible_i] = (0, round(moves['White'][i]/white_moves, 3))\n",
    "    for i in moves['Black'].keys():\n",
    "        legible_i = (to_uci(i[0]), to_uci(i[1]))\n",
    "        if i in winners['Black']:\n",
    "            black_win_rates[legible_i] = (round(winners['Black'][i]/moves['Black'][i], 3), round(moves['Black'][i]/black_moves, 3))\n",
    "        else:\n",
    "            black_win_rates[legible_i] = (0, round(moves['Black'][i]/black_moves, 3))\n",
    "    return white_win_rates,black_win_rates"
   ]
  },
  {
   "cell_type": "code",
   "execution_count": 16,
   "metadata": {},
   "outputs": [
    {
     "data": {
      "text/plain": [
       "({('e2', 'e4'): (0.561, 0.538),\n",
       "  ('d2', 'd3'): (0.615, 0.026),\n",
       "  ('d2', 'd4'): (0.53, 0.268),\n",
       "  ('b2', 'b3'): (0.5, 0.012),\n",
       "  ('g2', 'g4'): (0, 0.002),\n",
       "  ('c2', 'c4'): (0.294, 0.034),\n",
       "  ('b2', 'b4'): (0, 0.006),\n",
       "  ('g1', 'f3'): (0.552, 0.058),\n",
       "  ('b1', 'c3'): (0, 0.002),\n",
       "  ('e2', 'e3'): (0.6, 0.01),\n",
       "  ('f2', 'f4'): (0.636, 0.022),\n",
       "  ('g2', 'g3'): (0.25, 0.008),\n",
       "  ('c2', 'c3'): (0.5, 0.012),\n",
       "  ('a2', 'a3'): (0, 0.002)},\n",
       " {('d7', 'd5'): (0.491, 0.232),\n",
       "  ('e7', 'e5'): (0.448, 0.344),\n",
       "  ('c7', 'c5'): (0.42, 0.1),\n",
       "  ('g8', 'f6'): (0.489, 0.09),\n",
       "  ('e7', 'e6'): (0.324, 0.074),\n",
       "  ('g7', 'g6'): (0.375, 0.032),\n",
       "  ('d7', 'd6'): (0.471, 0.034),\n",
       "  ('c7', 'c6'): (0.25, 0.024),\n",
       "  ('b7', 'b6'): (0.562, 0.032),\n",
       "  ('b8', 'c6'): (0.273, 0.022),\n",
       "  ('f7', 'f5'): (0.5, 0.008),\n",
       "  ('a7', 'a5'): (0, 0.002),\n",
       "  ('a7', 'a6'): (0, 0.002),\n",
       "  ('g8', 'h6'): (0, 0.002),\n",
       "  ('b7', 'b5'): (1.0, 0.002)})"
      ]
     },
     "execution_count": 16,
     "metadata": {},
     "output_type": "execute_result"
    }
   ],
   "source": [
    "move_win_rate(x,y)"
   ]
  },
  {
   "cell_type": "code",
   "execution_count": 17,
   "metadata": {},
   "outputs": [
    {
     "data": {
      "text/plain": [
       "Counter({'Time forfeit': 173, 'Normal': 327})"
      ]
     },
     "execution_count": 17,
     "metadata": {},
     "output_type": "execute_result"
    }
   ],
   "source": [
    "terminations = Counter()\n",
    "for key,value in games.items():\n",
    "    terminations[value.termination] += 1\n",
    "terminations"
   ]
  },
  {
   "cell_type": "markdown",
   "metadata": {},
   "source": [
    "## captures"
   ]
  },
  {
   "cell_type": "code",
   "execution_count": 18,
   "metadata": {},
   "outputs": [],
   "source": [
    "captures_df = (data.explode('captures').groupby(['piece','captures'])['game_id'].nunique()).to_frame().reset_index().sort_values('game_id', ascending=False).assign(piece_type = lambda df: df['piece'].str.split('-').str.get(0))"
   ]
  },
  {
   "cell_type": "code",
   "execution_count": 19,
   "metadata": {},
   "outputs": [],
   "source": [
    "captures_df['captured_piece_type'] = captures_df['captures'].apply(lambda x: x[0])"
   ]
  },
  {
   "cell_type": "code",
   "execution_count": 20,
   "metadata": {},
   "outputs": [],
   "source": [
    "new_df = captures_df[['piece_type', 'captured_piece_type']].drop_duplicates()"
   ]
  },
  {
   "cell_type": "code",
   "execution_count": 21,
   "metadata": {},
   "outputs": [],
   "source": [
    "new_df['capture_count'] = new_df.apply(lambda x: sum(captures_df[(captures_df['piece_type'] == x['piece_type']) & (captures_df['captured_piece_type'] == x['captured_piece_type'])]['game_id']), axis=1)"
   ]
  },
  {
   "cell_type": "code",
   "execution_count": 22,
   "metadata": {},
   "outputs": [],
   "source": [
    "new_df['color'] = new_df['piece_type'].apply(lambda x: 'white' if ord(x) >= 9812 or ord(x) <= 9817 else 'black')"
   ]
  },
  {
   "cell_type": "code",
   "execution_count": 23,
   "metadata": {},
   "outputs": [],
   "source": [
    "px.bar(new_df, x='piece_type', y='capture_count', color='captured_piece_type').write_html('captures_by_piece.html')"
   ]
  },
  {
   "cell_type": "code",
   "execution_count": 24,
   "metadata": {},
   "outputs": [],
   "source": [
    "new_df.to_csv('captures_df.csv')"
   ]
  },
  {
   "cell_type": "markdown",
   "metadata": {},
   "source": [
    "## moves per piece"
   ]
  },
  {
   "cell_type": "code",
   "execution_count": 25,
   "metadata": {},
   "outputs": [],
   "source": [
    "def moves_per_piece(data, min_elo=1000, max_elo=1500):\n",
    "    def piece_normalizer(row):\n",
    "        piece = row['piece']\n",
    "        if piece in  ['♟', '♙']:\n",
    "            return row['number_of_moves']/8\n",
    "        if piece in  ['♕', '♚', '♛', '♔']:\n",
    "            return row['number_of_moves']\n",
    "        else:\n",
    "            return row['number_of_moves']/2\n",
    "\n",
    "    mpr = data[['piece', 'move_nums', 'mean_elo']].copy()\n",
    "    mpr['number_of_moves'] = mpr['move_nums'].apply(lambda x: len(x))\n",
    "    mpr['piece'] = mpr['piece'].apply(lambda x: x[0])\n",
    "    mpr = mpr[(mpr['mean_elo'] > min_elo) & (mpr['mean_elo'] < max_elo)].groupby('piece').sum().reset_index()\n",
    "    mpr['normalized_moves'] = mpr.apply(piece_normalizer, axis=1)\n",
    "    mpr['normalized_moves'] = mpr['normalized_moves']/mpr['normalized_moves'].sum()*100\n",
    "    return px.bar(data_frame=mpr, x='piece', y='normalized_moves')"
   ]
  },
  {
   "cell_type": "code",
   "execution_count": 26,
   "metadata": {},
   "outputs": [],
   "source": [
    "moves_per_piece(data).write_html('moves_per_piece.html')"
   ]
  },
  {
   "cell_type": "markdown",
   "metadata": {},
   "source": [
    "## most common checkmates"
   ]
  },
  {
   "cell_type": "code",
   "execution_count": 27,
   "metadata": {},
   "outputs": [],
   "source": [
    "def decolorizer(piece):\n",
    "    piece = piece[0]\n",
    "    if piece in ['♕', '♛']:\n",
    "        return 'Queen'\n",
    "    if piece in ['♟', '♙']:\n",
    "        return 'Pawn'\n",
    "    if piece in ['♖', '♜']:\n",
    "        return 'Rook'\n",
    "    if piece in ['♘', '♞']:\n",
    "        return 'Knight'\n",
    "    if piece in ['♗', '♝']:\n",
    "        return 'Bishop'\n",
    "    \n",
    "def checkmates(df, min_elo, max_elo):\n",
    "    cm = df[df['Checkmate'] != False].copy()\n",
    "    cm['Checkmate'] = cm['Checkmate'].apply(decolorizer)\n",
    "    cm = cm[['game_id', 'mean_elo', 'Checkmate']].drop_duplicates().reset_index(drop=True)\n",
    "    cm = cm[(cm['mean_elo'] < max_elo) & (cm['mean_elo'] > min_elo)]\n",
    "    return cm"
   ]
  },
  {
   "cell_type": "code",
   "execution_count": 28,
   "metadata": {},
   "outputs": [],
   "source": [
    "px.histogram(data_frame=checkmates(data, 1500, 1600), x='Checkmate').write_html('checkmates.html') # dash will have slider for mean elo"
   ]
  },
  {
   "cell_type": "markdown",
   "metadata": {},
   "source": [
    "## openings by elo"
   ]
  },
  {
   "cell_type": "code",
   "execution_count": 29,
   "metadata": {},
   "outputs": [],
   "source": [
    "def openings_by_elo(data, eco='All', min_elo=1000, max_elo=1500):\n",
    "    obe = data[['game_id', 'mean_elo']].copy()\n",
    "    obe.drop_duplicates(inplace=True)\n",
    "    obe['eco'] = obe['game_id'].apply(lambda x: games[x].eco)\n",
    "    obe['open'] = obe['eco'].apply(lambda x: x[0])\n",
    "    opening_name = {'A': 'Flank Openings', 'B': 'Semi-Open Games', 'C':'Open Games', 'D':'Closed Games and Semi-Closed Games', 'E':'Indian Defences'}\n",
    "    obe['open name'] = obe['open'].apply(lambda x: opening_name[x])\n",
    "    if eco == 'All':\n",
    "        return px.pie(obe[(obe['mean_elo'] > min_elo) & (obe['mean_elo'] < max_elo)], 'open name')\n",
    "    else:\n",
    "        obe = obe[obe['open'] == eco]\n",
    "        return px.pie(obe[(obe['mean_elo'] > min_elo) & (obe['mean_elo'] < max_elo)], 'eco')"
   ]
  },
  {
   "cell_type": "code",
   "execution_count": 30,
   "metadata": {},
   "outputs": [],
   "source": [
    "openings_by_elo(data, 'A', 500, 1300).write_html('openings by elo.html')"
   ]
  },
  {
   "cell_type": "markdown",
   "metadata": {},
   "source": [
    "## white/black diff by win"
   ]
  },
  {
   "cell_type": "code",
   "execution_count": 31,
   "metadata": {},
   "outputs": [],
   "source": [
    "def white_black_rating_diff(data, color, trendline='lowess', min_elo=0, max_elo=5000):\n",
    "    rating_diff_win_rate = data[['game_id']].copy()\n",
    "    rating_diff_win_rate['white elo'] = rating_diff_win_rate['game_id'].apply(lambda x: int(games[x].white_elo) if games[x].white_elo != '?' else '?')\n",
    "    rating_diff_win_rate['black elo'] = rating_diff_win_rate['game_id'].apply(lambda x: int(games[x].black_elo) if games[x].black_elo != '?' else '?')\n",
    "    rating_diff_win_rate = rating_diff_win_rate[(rating_diff_win_rate['white elo'] != '?') & (rating_diff_win_rate['black elo'] != '?')]\n",
    "    rating_diff_win_rate['winner'] = rating_diff_win_rate['game_id'].apply(lambda x: games[x].winner)\n",
    "    rating_diff_win_rate['white-black diff'] = rating_diff_win_rate['white elo'] - rating_diff_win_rate['black elo']\n",
    "    rating_diff_win_rate.drop_duplicates(inplace=True)\n",
    "    rating_diff_win_rate.reset_index(inplace=True, drop=True)\n",
    "    if color == 'white':\n",
    "        col = 'white elo'\n",
    "    else:\n",
    "        col = 'black elo'\n",
    "   \n",
    "    rating_diff_win_rate = rating_diff_win_rate[(rating_diff_win_rate[col] >= min_elo) & (rating_diff_win_rate[col] <= max_elo)]\n",
    "    c = 'winner'\n",
    "    if rating_diff_win_rate.empty:\n",
    "        c=None\n",
    "    return px.scatter(rating_diff_win_rate, col, 'white-black diff', color=c, trendline=trendline)"
   ]
  },
  {
   "cell_type": "code",
   "execution_count": 32,
   "metadata": {},
   "outputs": [],
   "source": [
    "white_black_rating_diff(data,'white', min_elo = 5000).write_html('white-black diff.html')"
   ]
  },
  {
   "cell_type": "markdown",
   "metadata": {},
   "source": [
    "## some player stats"
   ]
  },
  {
   "cell_type": "code",
   "execution_count": 33,
   "metadata": {},
   "outputs": [],
   "source": [
    "def average_time_per_move(data, games, min_elo, max_elo):\n",
    "    data = data[['game_id', 'mean_elo']]\n",
    "    data['num_moves'] = data['game_id'].apply(lambda x: games)"
   ]
  },
  {
   "cell_type": "markdown",
   "metadata": {},
   "source": [
    "## first move, second move, win rate"
   ]
  },
  {
   "cell_type": "code",
   "execution_count": 77,
   "metadata": {},
   "outputs": [
    {
     "data": {
      "text/html": [
       "<div>\n",
       "<style scoped>\n",
       "    .dataframe tbody tr th:only-of-type {\n",
       "        vertical-align: middle;\n",
       "    }\n",
       "\n",
       "    .dataframe tbody tr th {\n",
       "        vertical-align: top;\n",
       "    }\n",
       "\n",
       "    .dataframe thead th {\n",
       "        text-align: right;\n",
       "    }\n",
       "</style>\n",
       "<table border=\"1\" class=\"dataframe\">\n",
       "  <thead>\n",
       "    <tr style=\"text-align: right;\">\n",
       "      <th></th>\n",
       "      <th>white first move</th>\n",
       "      <th>white second move</th>\n",
       "      <th>black first move</th>\n",
       "      <th>black second move</th>\n",
       "      <th>white</th>\n",
       "      <th>black</th>\n",
       "      <th>tie</th>\n",
       "    </tr>\n",
       "  </thead>\n",
       "  <tbody>\n",
       "    <tr>\n",
       "      <th>0</th>\n",
       "      <td>e2e4</td>\n",
       "      <td>e4d5</td>\n",
       "      <td>d7d5</td>\n",
       "      <td>e7e6</td>\n",
       "      <td>1</td>\n",
       "      <td>0</td>\n",
       "      <td>0</td>\n",
       "    </tr>\n",
       "    <tr>\n",
       "      <th>1</th>\n",
       "      <td>e2e4</td>\n",
       "      <td>g1f3</td>\n",
       "      <td>e7e5</td>\n",
       "      <td>b8c6</td>\n",
       "      <td>1</td>\n",
       "      <td>0</td>\n",
       "      <td>0</td>\n",
       "    </tr>\n",
       "    <tr>\n",
       "      <th>2</th>\n",
       "      <td>e2e4</td>\n",
       "      <td>g1f3</td>\n",
       "      <td>e7e5</td>\n",
       "      <td>d7d6</td>\n",
       "      <td>1</td>\n",
       "      <td>0</td>\n",
       "      <td>0</td>\n",
       "    </tr>\n",
       "    <tr>\n",
       "      <th>3</th>\n",
       "      <td>e2e4</td>\n",
       "      <td>e4d5</td>\n",
       "      <td>d7d5</td>\n",
       "      <td>d8d5</td>\n",
       "      <td>1</td>\n",
       "      <td>0</td>\n",
       "      <td>0</td>\n",
       "    </tr>\n",
       "    <tr>\n",
       "      <th>4</th>\n",
       "      <td>d2d4</td>\n",
       "      <td>c2c4</td>\n",
       "      <td>g8f6</td>\n",
       "      <td>g7g6</td>\n",
       "      <td>0</td>\n",
       "      <td>1</td>\n",
       "      <td>0</td>\n",
       "    </tr>\n",
       "    <tr>\n",
       "      <th>...</th>\n",
       "      <td>...</td>\n",
       "      <td>...</td>\n",
       "      <td>...</td>\n",
       "      <td>...</td>\n",
       "      <td>...</td>\n",
       "      <td>...</td>\n",
       "      <td>...</td>\n",
       "    </tr>\n",
       "    <tr>\n",
       "      <th>493</th>\n",
       "      <td>g1f3</td>\n",
       "      <td>d2d4</td>\n",
       "      <td>g8f6</td>\n",
       "      <td>e7e6</td>\n",
       "      <td>0</td>\n",
       "      <td>1</td>\n",
       "      <td>0</td>\n",
       "    </tr>\n",
       "    <tr>\n",
       "      <th>494</th>\n",
       "      <td>d2d4</td>\n",
       "      <td>c2c4</td>\n",
       "      <td>d7d5</td>\n",
       "      <td>c7c5</td>\n",
       "      <td>1</td>\n",
       "      <td>0</td>\n",
       "      <td>0</td>\n",
       "    </tr>\n",
       "    <tr>\n",
       "      <th>495</th>\n",
       "      <td>d2d4</td>\n",
       "      <td>c2c4</td>\n",
       "      <td>b8c6</td>\n",
       "      <td>c6a5</td>\n",
       "      <td>1</td>\n",
       "      <td>0</td>\n",
       "      <td>0</td>\n",
       "    </tr>\n",
       "    <tr>\n",
       "      <th>496</th>\n",
       "      <td>g2g3</td>\n",
       "      <td>g1f3</td>\n",
       "      <td>d7d5</td>\n",
       "      <td>c7c6</td>\n",
       "      <td>1</td>\n",
       "      <td>0</td>\n",
       "      <td>0</td>\n",
       "    </tr>\n",
       "    <tr>\n",
       "      <th>497</th>\n",
       "      <td>e2e4</td>\n",
       "      <td>g1f3</td>\n",
       "      <td>e7e5</td>\n",
       "      <td>b8c6</td>\n",
       "      <td>1</td>\n",
       "      <td>0</td>\n",
       "      <td>0</td>\n",
       "    </tr>\n",
       "  </tbody>\n",
       "</table>\n",
       "<p>498 rows × 7 columns</p>\n",
       "</div>"
      ],
      "text/plain": [
       "    white first move white second move black first move black second move  \\\n",
       "0               e2e4              e4d5             d7d5              e7e6   \n",
       "1               e2e4              g1f3             e7e5              b8c6   \n",
       "2               e2e4              g1f3             e7e5              d7d6   \n",
       "3               e2e4              e4d5             d7d5              d8d5   \n",
       "4               d2d4              c2c4             g8f6              g7g6   \n",
       "..               ...               ...              ...               ...   \n",
       "493             g1f3              d2d4             g8f6              e7e6   \n",
       "494             d2d4              c2c4             d7d5              c7c5   \n",
       "495             d2d4              c2c4             b8c6              c6a5   \n",
       "496             g2g3              g1f3             d7d5              c7c6   \n",
       "497             e2e4              g1f3             e7e5              b8c6   \n",
       "\n",
       "     white  black  tie  \n",
       "0        1      0    0  \n",
       "1        1      0    0  \n",
       "2        1      0    0  \n",
       "3        1      0    0  \n",
       "4        0      1    0  \n",
       "..     ...    ...  ...  \n",
       "493      0      1    0  \n",
       "494      1      0    0  \n",
       "495      1      0    0  \n",
       "496      1      0    0  \n",
       "497      1      0    0  \n",
       "\n",
       "[498 rows x 7 columns]"
      ]
     },
     "execution_count": 77,
     "metadata": {},
     "output_type": "execute_result"
    }
   ],
   "source": [
    "openings_dict = {'white first move':[], 'white second move':[], 'black first move':[], 'black second move':[], 'white':[], 'black':[], 'tie':[]}\n",
    "for game in games.values():\n",
    "    move_counter = 0\n",
    "    moves = []\n",
    "    for move in game.mainline_moves:\n",
    "        moves.append(str(move))\n",
    "        if move_counter == 3:\n",
    "            break\n",
    "        move_counter += 1\n",
    "    if len(moves) == 4:\n",
    "        openings_dict['white first move'].append(moves[0])\n",
    "        openings_dict['black first move'].append(moves[1])\n",
    "        openings_dict['white second move'].append(moves[2])\n",
    "        openings_dict['black second move'].append(moves[3])\n",
    "        if game.winner == 'White':\n",
    "            openings_dict['white'].append(1)\n",
    "            openings_dict['black'].append(0)\n",
    "            openings_dict['tie'].append(0)\n",
    "        elif game.winner == 'Black':\n",
    "            openings_dict['white'].append(0)\n",
    "            openings_dict['black'].append(1)\n",
    "            openings_dict['tie'].append(0)\n",
    "        else:\n",
    "            openings_dict['white'].append(0)\n",
    "            openings_dict['black'].append(0)\n",
    "            openings_dict['tie'].append(1)\n",
    "four_moves = pd.DataFrame(openings_dict)\n",
    "four_moves"
   ]
  },
  {
   "cell_type": "code",
   "execution_count": 36,
   "metadata": {},
   "outputs": [],
   "source": [
    "def first_four_moves(four_moves, white_first = None, black_first = None, white_second = None):\n",
    "    if white_first == None:\n",
    "        return px.bar(four_moves, 'white first move', color='winner').update_traces(hovertemplate=None, hoverinfo='skip')\n",
    "    if black_first == None:\n",
    "        return px.bar(four_moves[four_moves['white first move'] == white_first], 'black first move', color='winner').update_traces(hovertemplate=None, hoverinfo='skip')\n",
    "    if white_second == None:\n",
    "        four_moves = four_moves[(four_moves['white first move'] == white_first) & (four_moves['black first move'] == black_first)]\n",
    "        return px.bar(four_moves, 'white second move', color='winner').update_traces(hovertemplate=None, hoverinfo='skip')\n",
    "    else:\n",
    "        four_moves = four_moves[(four_moves['white first move'] == white_first) & (four_moves['black first move'] == black_first) & (four_moves['white second move'] == white_second)]\n",
    "        return px.bar(four_moves, 'black_second_move', color='winner').update_traces(hovertemplate=None, hoverinfo='skip')"
   ]
  },
  {
   "cell_type": "code",
   "execution_count": 40,
   "metadata": {},
   "outputs": [],
   "source": [
    "first_four_moves(four_moves).write_html('first_four_moves.html')"
   ]
  },
  {
   "cell_type": "code",
   "execution_count": 80,
   "metadata": {},
   "outputs": [
    {
     "data": {
      "text/html": [
       "<div>\n",
       "<style scoped>\n",
       "    .dataframe tbody tr th:only-of-type {\n",
       "        vertical-align: middle;\n",
       "    }\n",
       "\n",
       "    .dataframe tbody tr th {\n",
       "        vertical-align: top;\n",
       "    }\n",
       "\n",
       "    .dataframe thead th {\n",
       "        text-align: right;\n",
       "    }\n",
       "</style>\n",
       "<table border=\"1\" class=\"dataframe\">\n",
       "  <thead>\n",
       "    <tr style=\"text-align: right;\">\n",
       "      <th></th>\n",
       "      <th>black first move</th>\n",
       "      <th>white</th>\n",
       "      <th>black</th>\n",
       "      <th>tie</th>\n",
       "    </tr>\n",
       "  </thead>\n",
       "  <tbody>\n",
       "    <tr>\n",
       "      <th>0</th>\n",
       "      <td>d7d5</td>\n",
       "      <td>10</td>\n",
       "      <td>8</td>\n",
       "      <td>0</td>\n",
       "    </tr>\n",
       "    <tr>\n",
       "      <th>1</th>\n",
       "      <td>e7e5</td>\n",
       "      <td>81</td>\n",
       "      <td>62</td>\n",
       "      <td>3</td>\n",
       "    </tr>\n",
       "    <tr>\n",
       "      <th>6</th>\n",
       "      <td>c7c5</td>\n",
       "      <td>22</td>\n",
       "      <td>18</td>\n",
       "      <td>1</td>\n",
       "    </tr>\n",
       "    <tr>\n",
       "      <th>13</th>\n",
       "      <td>e7e6</td>\n",
       "      <td>14</td>\n",
       "      <td>4</td>\n",
       "      <td>0</td>\n",
       "    </tr>\n",
       "    <tr>\n",
       "      <th>14</th>\n",
       "      <td>c7c6</td>\n",
       "      <td>6</td>\n",
       "      <td>3</td>\n",
       "      <td>1</td>\n",
       "    </tr>\n",
       "    <tr>\n",
       "      <th>16</th>\n",
       "      <td>d7d6</td>\n",
       "      <td>3</td>\n",
       "      <td>6</td>\n",
       "      <td>0</td>\n",
       "    </tr>\n",
       "    <tr>\n",
       "      <th>28</th>\n",
       "      <td>g8f6</td>\n",
       "      <td>0</td>\n",
       "      <td>3</td>\n",
       "      <td>0</td>\n",
       "    </tr>\n",
       "    <tr>\n",
       "      <th>42</th>\n",
       "      <td>g7g6</td>\n",
       "      <td>3</td>\n",
       "      <td>1</td>\n",
       "      <td>1</td>\n",
       "    </tr>\n",
       "    <tr>\n",
       "      <th>68</th>\n",
       "      <td>b8c6</td>\n",
       "      <td>3</td>\n",
       "      <td>3</td>\n",
       "      <td>0</td>\n",
       "    </tr>\n",
       "    <tr>\n",
       "      <th>204</th>\n",
       "      <td>f7f5</td>\n",
       "      <td>1</td>\n",
       "      <td>0</td>\n",
       "      <td>0</td>\n",
       "    </tr>\n",
       "    <tr>\n",
       "      <th>253</th>\n",
       "      <td>b7b6</td>\n",
       "      <td>6</td>\n",
       "      <td>3</td>\n",
       "      <td>1</td>\n",
       "    </tr>\n",
       "    <tr>\n",
       "      <th>261</th>\n",
       "      <td>a7a6</td>\n",
       "      <td>1</td>\n",
       "      <td>0</td>\n",
       "      <td>0</td>\n",
       "    </tr>\n",
       "    <tr>\n",
       "      <th>294</th>\n",
       "      <td>g8h6</td>\n",
       "      <td>1</td>\n",
       "      <td>0</td>\n",
       "      <td>0</td>\n",
       "    </tr>\n",
       "  </tbody>\n",
       "</table>\n",
       "</div>"
      ],
      "text/plain": [
       "    black first move  white  black  tie\n",
       "0               d7d5     10      8    0\n",
       "1               e7e5     81     62    3\n",
       "6               c7c5     22     18    1\n",
       "13              e7e6     14      4    0\n",
       "14              c7c6      6      3    1\n",
       "16              d7d6      3      6    0\n",
       "28              g8f6      0      3    0\n",
       "42              g7g6      3      1    1\n",
       "68              b8c6      3      3    0\n",
       "204             f7f5      1      0    0\n",
       "253             b7b6      6      3    1\n",
       "261             a7a6      1      0    0\n",
       "294             g8h6      1      0    0"
      ]
     },
     "execution_count": 80,
     "metadata": {},
     "output_type": "execute_result"
    }
   ],
   "source": [
    "four_moves = four_moves[four_moves['white first move'] == 'e2e4'][['black first move', 'white', 'black', 'tie']].copy()\n",
    "four_moves['white'] = four_moves.groupby(['black first move'])['white'].transform('sum')\n",
    "four_moves['black'] = four_moves.groupby(['black first move'])['black'].transform('sum')\n",
    "four_moves['tie'] = four_moves.groupby(['black first move'])['tie'].transform('sum')\n",
    "four_moves.drop_duplicates()"
   ]
  },
  {
   "cell_type": "code",
   "execution_count": 79,
   "metadata": {},
   "outputs": [],
   "source": [
    "fig = go.Figure(data = [\n",
    "    go.Bar(name='White', x=tmp['black first move'], y=tmp['white'], text=tmp['white'], textposition='auto', hovertemplate=\"White wins: %{y}\"),\n",
    "    go.Bar(name='Black', x=tmp['black first move'], y=tmp['black'], text=tmp['black'], textposition='auto', hovertemplate=\"Black wins: %{y}\"),\n",
    "    go.Bar(name='Tie', x=tmp['black first move'], y=tmp['tie'], text=tmp['tie'], textposition='auto', hovertemplate=\"Tie games: %{y}\")\n",
    "])\n",
    "fig.update_layout(barmode='stack', xaxis={'categoryorder':'total descending'})\n",
    "fig.write_html('four_moves_test.html')"
   ]
  },
  {
   "cell_type": "code",
   "execution_count": 82,
   "metadata": {},
   "outputs": [
    {
     "data": {
      "text/plain": [
       "'black first move'"
      ]
     },
     "execution_count": 82,
     "metadata": {},
     "output_type": "execute_result"
    }
   ],
   "source": [
    "tmp.columns[0]"
   ]
  },
  {
   "cell_type": "markdown",
   "metadata": {},
   "source": [
    "## classifying winers by white/black diff and predicting rating change"
   ]
  },
  {
   "cell_type": "code",
   "execution_count": 39,
   "metadata": {},
   "outputs": [],
   "source": [
    "from sklearn.linear_model import LogisticRegression\n",
    "from sklearn.model_selection import train_test_split"
   ]
  },
  {
   "cell_type": "code",
   "execution_count": 160,
   "metadata": {},
   "outputs": [],
   "source": [
    "rating_diff_win_rate = data[['game_id']].copy()\n",
    "rating_diff_win_rate['white change'] = rating_diff_win_rate['game_id'].apply(lambda x: int(games[x].white_change[1:]) if games[x].white_change else -100)\n",
    "rating_diff_win_rate['black change'] = rating_diff_win_rate['game_id'].apply(lambda x: int(games[x].black_change[1:]) if games[x].black_change else -100)\n",
    "rating_diff_win_rate = rating_diff_win_rate[rating_diff_win_rate['white change'] != -100]\n",
    "rating_diff_win_rate = rating_diff_win_rate[rating_diff_win_rate['black change'] != -100]\n",
    "rating_diff_win_rate['white elo'] = rating_diff_win_rate['game_id'].apply(lambda x: int(games[x].white_elo) if games[x].white_elo != '?' else '?')\n",
    "rating_diff_win_rate['black elo'] = rating_diff_win_rate['game_id'].apply(lambda x: int(games[x].black_elo) if games[x].black_elo != '?' else '?')\n",
    "rating_diff_win_rate = rating_diff_win_rate[(rating_diff_win_rate['white elo'] != '?') & (rating_diff_win_rate['black elo'] != '?')]\n",
    "rating_diff_win_rate['winner'] = rating_diff_win_rate['game_id'].apply(lambda x: games[x].winner)\n",
    "rating_diff_win_rate['white-black diff'] = rating_diff_win_rate['white elo'] - rating_diff_win_rate['black elo']\n",
    "rating_diff_win_rate.drop_duplicates(inplace=True)\n",
    "rating_diff_win_rate.reset_index(inplace=True, drop=True)"
   ]
  },
  {
   "cell_type": "code",
   "execution_count": 161,
   "metadata": {},
   "outputs": [],
   "source": [
    "rating_diff_win_rate = rating_diff_win_rate[rating_diff_win_rate['winner'] != 'Tie']"
   ]
  },
  {
   "cell_type": "code",
   "execution_count": 162,
   "metadata": {},
   "outputs": [
    {
     "data": {
      "text/plain": [
       "White    2614\n",
       "Black    2225\n",
       "Name: winner, dtype: int64"
      ]
     },
     "execution_count": 162,
     "metadata": {},
     "output_type": "execute_result"
    }
   ],
   "source": [
    "rating_diff_win_rate['winner'].value_counts()"
   ]
  },
  {
   "cell_type": "code",
   "execution_count": 175,
   "metadata": {},
   "outputs": [],
   "source": [
    "X_train, X_test, y_train, y_test = train_test_split(rating_diff_win_rate, rating_diff_win_rate, test_size=0.2, random_state=42)"
   ]
  },
  {
   "cell_type": "code",
   "execution_count": 176,
   "metadata": {},
   "outputs": [],
   "source": [
    "model = LogisticRegression()"
   ]
  },
  {
   "cell_type": "code",
   "execution_count": 178,
   "metadata": {},
   "outputs": [
    {
     "data": {
      "text/plain": [
       "LogisticRegression()"
      ]
     },
     "execution_count": 178,
     "metadata": {},
     "output_type": "execute_result"
    }
   ],
   "source": [
    "model.fit(X_train[['white-black diff']], y_train['winner'])"
   ]
  },
  {
   "cell_type": "code",
   "execution_count": 180,
   "metadata": {},
   "outputs": [
    {
     "data": {
      "text/plain": [
       "0.6776859504132231"
      ]
     },
     "execution_count": 180,
     "metadata": {},
     "output_type": "execute_result"
    }
   ],
   "source": [
    "model.score(X_test[['white-black diff']], y_test['winner'])"
   ]
  },
  {
   "cell_type": "code",
   "execution_count": 167,
   "metadata": {},
   "outputs": [
    {
     "data": {
      "text/plain": [
       "array([[0.00446623]])"
      ]
     },
     "execution_count": 167,
     "metadata": {},
     "output_type": "execute_result"
    }
   ],
   "source": [
    "model.coef_"
   ]
  },
  {
   "cell_type": "code",
   "execution_count": 168,
   "metadata": {},
   "outputs": [],
   "source": [
    "from sklearn.ensemble import RandomForestClassifier"
   ]
  },
  {
   "cell_type": "code",
   "execution_count": 181,
   "metadata": {},
   "outputs": [
    {
     "data": {
      "text/plain": [
       "0.6776859504132231"
      ]
     },
     "execution_count": 181,
     "metadata": {},
     "output_type": "execute_result"
    }
   ],
   "source": [
    "model2 = RandomForestClassifier()\n",
    "model.fit(X_train[['white-black diff']], y_train['winner'])\n",
    "model.score(X_test[['white-black diff']], y_test['winner'])"
   ]
  },
  {
   "cell_type": "code",
   "execution_count": 170,
   "metadata": {},
   "outputs": [],
   "source": [
    "from sklearn.linear_model import LinearRegression"
   ]
  },
  {
   "cell_type": "code",
   "execution_count": 194,
   "metadata": {},
   "outputs": [
    {
     "data": {
      "text/plain": [
       "LinearRegression()"
      ]
     },
     "execution_count": 194,
     "metadata": {},
     "output_type": "execute_result"
    }
   ],
   "source": [
    "model3 = LinearRegression()\n",
    "model3.fit(rating_diff_win_rate[rating_diff_win_rate['winner'] == 'White'][['white elo', 'black elo']], rating_diff_win_rate[rating_diff_win_rate['winner'] == 'White']['white change'])\n",
    "#model3.score(X_test[X_test['winner'] == 'White'][['white elo', 'black elo']], y_test[y_test['winner'] == 'White']['white change'])"
   ]
  },
  {
   "cell_type": "code",
   "execution_count": 195,
   "metadata": {},
   "outputs": [
    {
     "data": {
      "text/plain": [
       "array([-0.06411381,  0.04412775])"
      ]
     },
     "execution_count": 195,
     "metadata": {},
     "output_type": "execute_result"
    }
   ],
   "source": [
    "model3.coef_"
   ]
  },
  {
   "cell_type": "code",
   "execution_count": 196,
   "metadata": {},
   "outputs": [
    {
     "data": {
      "text/plain": [
       "54.69199281300327"
      ]
     },
     "execution_count": 196,
     "metadata": {},
     "output_type": "execute_result"
    }
   ],
   "source": [
    "model3.intercept_"
   ]
  },
  {
   "cell_type": "code",
   "execution_count": 197,
   "metadata": {},
   "outputs": [
    {
     "data": {
      "text/plain": [
       "array([22.32724617])"
      ]
     },
     "execution_count": 197,
     "metadata": {},
     "output_type": "execute_result"
    }
   ],
   "source": [
    "model3.predict([[1796, 1876]])"
   ]
  },
  {
   "cell_type": "code",
   "execution_count": 191,
   "metadata": {},
   "outputs": [
    {
     "data": {
      "text/html": [
       "<div>\n",
       "<style scoped>\n",
       "    .dataframe tbody tr th:only-of-type {\n",
       "        vertical-align: middle;\n",
       "    }\n",
       "\n",
       "    .dataframe tbody tr th {\n",
       "        vertical-align: top;\n",
       "    }\n",
       "\n",
       "    .dataframe thead th {\n",
       "        text-align: right;\n",
       "    }\n",
       "</style>\n",
       "<table border=\"1\" class=\"dataframe\">\n",
       "  <thead>\n",
       "    <tr style=\"text-align: right;\">\n",
       "      <th></th>\n",
       "      <th>game_id</th>\n",
       "      <th>white change</th>\n",
       "      <th>black change</th>\n",
       "      <th>white elo</th>\n",
       "      <th>black elo</th>\n",
       "      <th>winner</th>\n",
       "      <th>white-black diff</th>\n",
       "    </tr>\n",
       "  </thead>\n",
       "  <tbody>\n",
       "    <tr>\n",
       "      <th>0</th>\n",
       "      <td>9tp6v4ps</td>\n",
       "      <td>5</td>\n",
       "      <td>20</td>\n",
       "      <td>1452</td>\n",
       "      <td>1227</td>\n",
       "      <td>White</td>\n",
       "      <td>225</td>\n",
       "    </tr>\n",
       "    <tr>\n",
       "      <th>1</th>\n",
       "      <td>b9tstv2z</td>\n",
       "      <td>13</td>\n",
       "      <td>14</td>\n",
       "      <td>1796</td>\n",
       "      <td>1876</td>\n",
       "      <td>White</td>\n",
       "      <td>-80</td>\n",
       "    </tr>\n",
       "    <tr>\n",
       "      <th>2</th>\n",
       "      <td>azjm2dih</td>\n",
       "      <td>8</td>\n",
       "      <td>8</td>\n",
       "      <td>1650</td>\n",
       "      <td>1534</td>\n",
       "      <td>White</td>\n",
       "      <td>116</td>\n",
       "    </tr>\n",
       "    <tr>\n",
       "      <th>3</th>\n",
       "      <td>yfe3lngr</td>\n",
       "      <td>7</td>\n",
       "      <td>6</td>\n",
       "      <td>1807</td>\n",
       "      <td>1637</td>\n",
       "      <td>White</td>\n",
       "      <td>170</td>\n",
       "    </tr>\n",
       "    <tr>\n",
       "      <th>4</th>\n",
       "      <td>xslxnflt</td>\n",
       "      <td>11</td>\n",
       "      <td>15</td>\n",
       "      <td>1457</td>\n",
       "      <td>1442</td>\n",
       "      <td>White</td>\n",
       "      <td>15</td>\n",
       "    </tr>\n",
       "    <tr>\n",
       "      <th>...</th>\n",
       "      <td>...</td>\n",
       "      <td>...</td>\n",
       "      <td>...</td>\n",
       "      <td>...</td>\n",
       "      <td>...</td>\n",
       "      <td>...</td>\n",
       "      <td>...</td>\n",
       "    </tr>\n",
       "    <tr>\n",
       "      <th>4981</th>\n",
       "      <td>qjmco8g3</td>\n",
       "      <td>29</td>\n",
       "      <td>5</td>\n",
       "      <td>1232</td>\n",
       "      <td>1492</td>\n",
       "      <td>Black</td>\n",
       "      <td>-260</td>\n",
       "    </tr>\n",
       "    <tr>\n",
       "      <th>4982</th>\n",
       "      <td>cw7mr4ek</td>\n",
       "      <td>4</td>\n",
       "      <td>6</td>\n",
       "      <td>1592</td>\n",
       "      <td>1874</td>\n",
       "      <td>Black</td>\n",
       "      <td>-282</td>\n",
       "    </tr>\n",
       "    <tr>\n",
       "      <th>4983</th>\n",
       "      <td>zfh3vf8w</td>\n",
       "      <td>5</td>\n",
       "      <td>6</td>\n",
       "      <td>1602</td>\n",
       "      <td>1862</td>\n",
       "      <td>Black</td>\n",
       "      <td>-260</td>\n",
       "    </tr>\n",
       "    <tr>\n",
       "      <th>4984</th>\n",
       "      <td>99uh9xqz</td>\n",
       "      <td>4</td>\n",
       "      <td>5</td>\n",
       "      <td>1674</td>\n",
       "      <td>1926</td>\n",
       "      <td>Black</td>\n",
       "      <td>-252</td>\n",
       "    </tr>\n",
       "    <tr>\n",
       "      <th>4985</th>\n",
       "      <td>huknxzib</td>\n",
       "      <td>8</td>\n",
       "      <td>63</td>\n",
       "      <td>1385</td>\n",
       "      <td>1256</td>\n",
       "      <td>White</td>\n",
       "      <td>129</td>\n",
       "    </tr>\n",
       "  </tbody>\n",
       "</table>\n",
       "<p>4839 rows × 7 columns</p>\n",
       "</div>"
      ],
      "text/plain": [
       "       game_id  white change  black change  white elo  black elo winner  \\\n",
       "0     9tp6v4ps             5            20       1452       1227  White   \n",
       "1     b9tstv2z            13            14       1796       1876  White   \n",
       "2     azjm2dih             8             8       1650       1534  White   \n",
       "3     yfe3lngr             7             6       1807       1637  White   \n",
       "4     xslxnflt            11            15       1457       1442  White   \n",
       "...        ...           ...           ...        ...        ...    ...   \n",
       "4981  qjmco8g3            29             5       1232       1492  Black   \n",
       "4982  cw7mr4ek             4             6       1592       1874  Black   \n",
       "4983  zfh3vf8w             5             6       1602       1862  Black   \n",
       "4984  99uh9xqz             4             5       1674       1926  Black   \n",
       "4985  huknxzib             8            63       1385       1256  White   \n",
       "\n",
       "      white-black diff  \n",
       "0                  225  \n",
       "1                  -80  \n",
       "2                  116  \n",
       "3                  170  \n",
       "4                   15  \n",
       "...                ...  \n",
       "4981              -260  \n",
       "4982              -282  \n",
       "4983              -260  \n",
       "4984              -252  \n",
       "4985               129  \n",
       "\n",
       "[4839 rows x 7 columns]"
      ]
     },
     "execution_count": 191,
     "metadata": {},
     "output_type": "execute_result"
    }
   ],
   "source": [
    "rating_diff_win_rate"
   ]
  },
  {
   "cell_type": "code",
   "execution_count": null,
   "metadata": {},
   "outputs": [],
   "source": []
  }
 ],
 "metadata": {
  "kernelspec": {
   "display_name": "Python 3",
   "language": "python",
   "name": "python3"
  },
  "language_info": {
   "codemirror_mode": {
    "name": "ipython",
    "version": 3
   },
   "file_extension": ".py",
   "mimetype": "text/x-python",
   "name": "python",
   "nbconvert_exporter": "python",
   "pygments_lexer": "ipython3",
   "version": "3.8.5"
  }
 },
 "nbformat": 4,
 "nbformat_minor": 4
}
